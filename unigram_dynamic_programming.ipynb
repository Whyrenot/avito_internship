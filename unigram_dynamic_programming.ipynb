{
  "nbformat": 4,
  "nbformat_minor": 0,
  "metadata": {
    "colab": {
      "provenance": []
    },
    "kernelspec": {
      "name": "python3",
      "display_name": "Python 3"
    },
    "language_info": {
      "name": "python"
    }
  },
  "cells": [
    {
      "cell_type": "code",
      "source": [
        "!pip install razdel"
      ],
      "metadata": {
        "colab": {
          "base_uri": "https://localhost:8080/"
        },
        "id": "QAT3vhKg5RUh",
        "outputId": "d17ef300-11ee-4a24-a2ac-6bc8f32e5c26"
      },
      "execution_count": 21,
      "outputs": [
        {
          "output_type": "stream",
          "name": "stdout",
          "text": [
            "Requirement already satisfied: razdel in /usr/local/lib/python3.12/dist-packages (0.5.0)\n"
          ]
        }
      ]
    },
    {
      "cell_type": "code",
      "source": [
        "!pip install wordfreq"
      ],
      "metadata": {
        "colab": {
          "base_uri": "https://localhost:8080/"
        },
        "id": "w3EVozrY73mK",
        "outputId": "4e71ada9-9a90-467f-c56c-9c0e7d32b48e"
      },
      "execution_count": 22,
      "outputs": [
        {
          "output_type": "stream",
          "name": "stdout",
          "text": [
            "Requirement already satisfied: wordfreq in /usr/local/lib/python3.12/dist-packages (3.1.1)\n",
            "Requirement already satisfied: ftfy>=6.1 in /usr/local/lib/python3.12/dist-packages (from wordfreq) (6.3.1)\n",
            "Requirement already satisfied: langcodes>=3.0 in /usr/local/lib/python3.12/dist-packages (from wordfreq) (3.5.0)\n",
            "Requirement already satisfied: locate<2.0.0,>=1.1.1 in /usr/local/lib/python3.12/dist-packages (from wordfreq) (1.1.1)\n",
            "Requirement already satisfied: msgpack<2.0.0,>=1.0.7 in /usr/local/lib/python3.12/dist-packages (from wordfreq) (1.1.1)\n",
            "Requirement already satisfied: regex>=2023.10.3 in /usr/local/lib/python3.12/dist-packages (from wordfreq) (2024.11.6)\n",
            "Requirement already satisfied: wcwidth in /usr/local/lib/python3.12/dist-packages (from ftfy>=6.1->wordfreq) (0.2.13)\n",
            "Requirement already satisfied: language-data>=1.2 in /usr/local/lib/python3.12/dist-packages (from langcodes>=3.0->wordfreq) (1.3.0)\n",
            "Requirement already satisfied: marisa-trie>=1.1.0 in /usr/local/lib/python3.12/dist-packages (from language-data>=1.2->langcodes>=3.0->wordfreq) (1.3.1)\n"
          ]
        }
      ]
    },
    {
      "cell_type": "code",
      "source": [
        "import pandas as pd\n",
        "from razdel import tokenize\n",
        "from wordfreq import zipf_frequency\n",
        "import math\n",
        "from functools import lru_cache\n",
        "import string\n"
      ],
      "metadata": {
        "id": "mdzMStlxWClo"
      },
      "execution_count": 27,
      "outputs": []
    },
    {
      "cell_type": "markdown",
      "source": [
        "**Считаем файл**"
      ],
      "metadata": {
        "id": "4xGk9o9bhGGa"
      }
    },
    {
      "cell_type": "code",
      "source": [
        "def read_data(data_dir : string):\n",
        "  with open(data_dir, encoding=\"utf-8\") as f:\n",
        "    lines = [line.rstrip(\"\\n\") for line in f]\n",
        "\n",
        "  header = lines[0].split(\",\", 1)\n",
        "  rows = [line.split(\",\", 1) for line in lines[1:]]\n",
        "\n",
        "  return pd.DataFrame(rows, columns=header)"
      ],
      "metadata": {
        "id": "FZ6xfHSgb_wR"
      },
      "execution_count": 28,
      "outputs": []
    },
    {
      "cell_type": "code",
      "source": [
        "df = read_data(\"/content/dataset_1937770_3.txt\")\n",
        "df.head()\n"
      ],
      "metadata": {
        "colab": {
          "base_uri": "https://localhost:8080/",
          "height": 206
        },
        "id": "D_hSC0vzgYUr",
        "outputId": "11a95aa2-e068-47f6-eef4-7ab2ef8f7b7d"
      },
      "execution_count": 29,
      "outputs": [
        {
          "output_type": "execute_result",
          "data": {
            "text/plain": [
              "  id                 text_no_spaces\n",
              "0  0                куплюайфон14про\n",
              "1  1             ищудомвПодмосковье\n",
              "2  2  сдаюквартирусмебельюитехникой\n",
              "3  3     новыйдивандоставканедорого\n",
              "4  4                отдамдаромкошку"
            ],
            "text/html": [
              "\n",
              "  <div id=\"df-f80eb5f1-0708-40e0-a339-ffdb4c6ff829\" class=\"colab-df-container\">\n",
              "    <div>\n",
              "<style scoped>\n",
              "    .dataframe tbody tr th:only-of-type {\n",
              "        vertical-align: middle;\n",
              "    }\n",
              "\n",
              "    .dataframe tbody tr th {\n",
              "        vertical-align: top;\n",
              "    }\n",
              "\n",
              "    .dataframe thead th {\n",
              "        text-align: right;\n",
              "    }\n",
              "</style>\n",
              "<table border=\"1\" class=\"dataframe\">\n",
              "  <thead>\n",
              "    <tr style=\"text-align: right;\">\n",
              "      <th></th>\n",
              "      <th>id</th>\n",
              "      <th>text_no_spaces</th>\n",
              "    </tr>\n",
              "  </thead>\n",
              "  <tbody>\n",
              "    <tr>\n",
              "      <th>0</th>\n",
              "      <td>0</td>\n",
              "      <td>куплюайфон14про</td>\n",
              "    </tr>\n",
              "    <tr>\n",
              "      <th>1</th>\n",
              "      <td>1</td>\n",
              "      <td>ищудомвПодмосковье</td>\n",
              "    </tr>\n",
              "    <tr>\n",
              "      <th>2</th>\n",
              "      <td>2</td>\n",
              "      <td>сдаюквартирусмебельюитехникой</td>\n",
              "    </tr>\n",
              "    <tr>\n",
              "      <th>3</th>\n",
              "      <td>3</td>\n",
              "      <td>новыйдивандоставканедорого</td>\n",
              "    </tr>\n",
              "    <tr>\n",
              "      <th>4</th>\n",
              "      <td>4</td>\n",
              "      <td>отдамдаромкошку</td>\n",
              "    </tr>\n",
              "  </tbody>\n",
              "</table>\n",
              "</div>\n",
              "    <div class=\"colab-df-buttons\">\n",
              "\n",
              "  <div class=\"colab-df-container\">\n",
              "    <button class=\"colab-df-convert\" onclick=\"convertToInteractive('df-f80eb5f1-0708-40e0-a339-ffdb4c6ff829')\"\n",
              "            title=\"Convert this dataframe to an interactive table.\"\n",
              "            style=\"display:none;\">\n",
              "\n",
              "  <svg xmlns=\"http://www.w3.org/2000/svg\" height=\"24px\" viewBox=\"0 -960 960 960\">\n",
              "    <path d=\"M120-120v-720h720v720H120Zm60-500h600v-160H180v160Zm220 220h160v-160H400v160Zm0 220h160v-160H400v160ZM180-400h160v-160H180v160Zm440 0h160v-160H620v160ZM180-180h160v-160H180v160Zm440 0h160v-160H620v160Z\"/>\n",
              "  </svg>\n",
              "    </button>\n",
              "\n",
              "  <style>\n",
              "    .colab-df-container {\n",
              "      display:flex;\n",
              "      gap: 12px;\n",
              "    }\n",
              "\n",
              "    .colab-df-convert {\n",
              "      background-color: #E8F0FE;\n",
              "      border: none;\n",
              "      border-radius: 50%;\n",
              "      cursor: pointer;\n",
              "      display: none;\n",
              "      fill: #1967D2;\n",
              "      height: 32px;\n",
              "      padding: 0 0 0 0;\n",
              "      width: 32px;\n",
              "    }\n",
              "\n",
              "    .colab-df-convert:hover {\n",
              "      background-color: #E2EBFA;\n",
              "      box-shadow: 0px 1px 2px rgba(60, 64, 67, 0.3), 0px 1px 3px 1px rgba(60, 64, 67, 0.15);\n",
              "      fill: #174EA6;\n",
              "    }\n",
              "\n",
              "    .colab-df-buttons div {\n",
              "      margin-bottom: 4px;\n",
              "    }\n",
              "\n",
              "    [theme=dark] .colab-df-convert {\n",
              "      background-color: #3B4455;\n",
              "      fill: #D2E3FC;\n",
              "    }\n",
              "\n",
              "    [theme=dark] .colab-df-convert:hover {\n",
              "      background-color: #434B5C;\n",
              "      box-shadow: 0px 1px 3px 1px rgba(0, 0, 0, 0.15);\n",
              "      filter: drop-shadow(0px 1px 2px rgba(0, 0, 0, 0.3));\n",
              "      fill: #FFFFFF;\n",
              "    }\n",
              "  </style>\n",
              "\n",
              "    <script>\n",
              "      const buttonEl =\n",
              "        document.querySelector('#df-f80eb5f1-0708-40e0-a339-ffdb4c6ff829 button.colab-df-convert');\n",
              "      buttonEl.style.display =\n",
              "        google.colab.kernel.accessAllowed ? 'block' : 'none';\n",
              "\n",
              "      async function convertToInteractive(key) {\n",
              "        const element = document.querySelector('#df-f80eb5f1-0708-40e0-a339-ffdb4c6ff829');\n",
              "        const dataTable =\n",
              "          await google.colab.kernel.invokeFunction('convertToInteractive',\n",
              "                                                    [key], {});\n",
              "        if (!dataTable) return;\n",
              "\n",
              "        const docLinkHtml = 'Like what you see? Visit the ' +\n",
              "          '<a target=\"_blank\" href=https://colab.research.google.com/notebooks/data_table.ipynb>data table notebook</a>'\n",
              "          + ' to learn more about interactive tables.';\n",
              "        element.innerHTML = '';\n",
              "        dataTable['output_type'] = 'display_data';\n",
              "        await google.colab.output.renderOutput(dataTable, element);\n",
              "        const docLink = document.createElement('div');\n",
              "        docLink.innerHTML = docLinkHtml;\n",
              "        element.appendChild(docLink);\n",
              "      }\n",
              "    </script>\n",
              "  </div>\n",
              "\n",
              "\n",
              "    <div id=\"df-7be105e9-39bc-4ce8-ba47-cdff92329a4d\">\n",
              "      <button class=\"colab-df-quickchart\" onclick=\"quickchart('df-7be105e9-39bc-4ce8-ba47-cdff92329a4d')\"\n",
              "                title=\"Suggest charts\"\n",
              "                style=\"display:none;\">\n",
              "\n",
              "<svg xmlns=\"http://www.w3.org/2000/svg\" height=\"24px\"viewBox=\"0 0 24 24\"\n",
              "     width=\"24px\">\n",
              "    <g>\n",
              "        <path d=\"M19 3H5c-1.1 0-2 .9-2 2v14c0 1.1.9 2 2 2h14c1.1 0 2-.9 2-2V5c0-1.1-.9-2-2-2zM9 17H7v-7h2v7zm4 0h-2V7h2v10zm4 0h-2v-4h2v4z\"/>\n",
              "    </g>\n",
              "</svg>\n",
              "      </button>\n",
              "\n",
              "<style>\n",
              "  .colab-df-quickchart {\n",
              "      --bg-color: #E8F0FE;\n",
              "      --fill-color: #1967D2;\n",
              "      --hover-bg-color: #E2EBFA;\n",
              "      --hover-fill-color: #174EA6;\n",
              "      --disabled-fill-color: #AAA;\n",
              "      --disabled-bg-color: #DDD;\n",
              "  }\n",
              "\n",
              "  [theme=dark] .colab-df-quickchart {\n",
              "      --bg-color: #3B4455;\n",
              "      --fill-color: #D2E3FC;\n",
              "      --hover-bg-color: #434B5C;\n",
              "      --hover-fill-color: #FFFFFF;\n",
              "      --disabled-bg-color: #3B4455;\n",
              "      --disabled-fill-color: #666;\n",
              "  }\n",
              "\n",
              "  .colab-df-quickchart {\n",
              "    background-color: var(--bg-color);\n",
              "    border: none;\n",
              "    border-radius: 50%;\n",
              "    cursor: pointer;\n",
              "    display: none;\n",
              "    fill: var(--fill-color);\n",
              "    height: 32px;\n",
              "    padding: 0;\n",
              "    width: 32px;\n",
              "  }\n",
              "\n",
              "  .colab-df-quickchart:hover {\n",
              "    background-color: var(--hover-bg-color);\n",
              "    box-shadow: 0 1px 2px rgba(60, 64, 67, 0.3), 0 1px 3px 1px rgba(60, 64, 67, 0.15);\n",
              "    fill: var(--button-hover-fill-color);\n",
              "  }\n",
              "\n",
              "  .colab-df-quickchart-complete:disabled,\n",
              "  .colab-df-quickchart-complete:disabled:hover {\n",
              "    background-color: var(--disabled-bg-color);\n",
              "    fill: var(--disabled-fill-color);\n",
              "    box-shadow: none;\n",
              "  }\n",
              "\n",
              "  .colab-df-spinner {\n",
              "    border: 2px solid var(--fill-color);\n",
              "    border-color: transparent;\n",
              "    border-bottom-color: var(--fill-color);\n",
              "    animation:\n",
              "      spin 1s steps(1) infinite;\n",
              "  }\n",
              "\n",
              "  @keyframes spin {\n",
              "    0% {\n",
              "      border-color: transparent;\n",
              "      border-bottom-color: var(--fill-color);\n",
              "      border-left-color: var(--fill-color);\n",
              "    }\n",
              "    20% {\n",
              "      border-color: transparent;\n",
              "      border-left-color: var(--fill-color);\n",
              "      border-top-color: var(--fill-color);\n",
              "    }\n",
              "    30% {\n",
              "      border-color: transparent;\n",
              "      border-left-color: var(--fill-color);\n",
              "      border-top-color: var(--fill-color);\n",
              "      border-right-color: var(--fill-color);\n",
              "    }\n",
              "    40% {\n",
              "      border-color: transparent;\n",
              "      border-right-color: var(--fill-color);\n",
              "      border-top-color: var(--fill-color);\n",
              "    }\n",
              "    60% {\n",
              "      border-color: transparent;\n",
              "      border-right-color: var(--fill-color);\n",
              "    }\n",
              "    80% {\n",
              "      border-color: transparent;\n",
              "      border-right-color: var(--fill-color);\n",
              "      border-bottom-color: var(--fill-color);\n",
              "    }\n",
              "    90% {\n",
              "      border-color: transparent;\n",
              "      border-bottom-color: var(--fill-color);\n",
              "    }\n",
              "  }\n",
              "</style>\n",
              "\n",
              "      <script>\n",
              "        async function quickchart(key) {\n",
              "          const quickchartButtonEl =\n",
              "            document.querySelector('#' + key + ' button');\n",
              "          quickchartButtonEl.disabled = true;  // To prevent multiple clicks.\n",
              "          quickchartButtonEl.classList.add('colab-df-spinner');\n",
              "          try {\n",
              "            const charts = await google.colab.kernel.invokeFunction(\n",
              "                'suggestCharts', [key], {});\n",
              "          } catch (error) {\n",
              "            console.error('Error during call to suggestCharts:', error);\n",
              "          }\n",
              "          quickchartButtonEl.classList.remove('colab-df-spinner');\n",
              "          quickchartButtonEl.classList.add('colab-df-quickchart-complete');\n",
              "        }\n",
              "        (() => {\n",
              "          let quickchartButtonEl =\n",
              "            document.querySelector('#df-7be105e9-39bc-4ce8-ba47-cdff92329a4d button');\n",
              "          quickchartButtonEl.style.display =\n",
              "            google.colab.kernel.accessAllowed ? 'block' : 'none';\n",
              "        })();\n",
              "      </script>\n",
              "    </div>\n",
              "    </div>\n",
              "  </div>\n"
            ],
            "application/vnd.google.colaboratory.intrinsic+json": {
              "type": "dataframe",
              "variable_name": "df",
              "summary": "{\n  \"name\": \"df\",\n  \"rows\": 1005,\n  \"fields\": [\n    {\n      \"column\": \"id\",\n      \"properties\": {\n        \"dtype\": \"string\",\n        \"num_unique_values\": 1005,\n        \"samples\": [\n          \"926\",\n          \"630\",\n          \"682\"\n        ],\n        \"semantic_type\": \"\",\n        \"description\": \"\"\n      }\n    },\n    {\n      \"column\": \"text_no_spaces\",\n      \"properties\": {\n        \"dtype\": \"string\",\n        \"num_unique_values\": 1005,\n        \"samples\": [\n          \"\\u0412\\u044b\\u0439\\u0434\\u0443\\u043d\\u0430\\u0443\\u043b\\u0438\\u0446\\u0443,\\u0433\\u043b\\u044f\\u043d\\u0443\\u043d\\u0430\\u0441\\u0435\\u043b\\u043e,-\",\n          \"\\u041f\\u043e\\u043a\\u043e\\u0439.\",\n          \"\\u0417\\u043b\\u043e\\u0431\\u043d\\u044b\\u0439\\u0443\\u0440\\u043e\\u0434\\u0435\\u0446\\u043d\\u0438\\u043a\\u0430\\u043a\\u043d\\u0435\\u043e\\u0441\\u0442\\u0430\\u0432\\u0438\\u0442\\u0432\\u043f\\u043e\\u043a\\u043e\\u0435\"\n        ],\n        \"semantic_type\": \"\",\n        \"description\": \"\"\n      }\n    }\n  ]\n}"
            }
          },
          "metadata": {},
          "execution_count": 29
        }
      ]
    },
    {
      "cell_type": "markdown",
      "source": [
        "Воспользуемся набором эвристик для первоначальной обработки."
      ],
      "metadata": {
        "id": "G9TV4g-P7-uJ"
      }
    },
    {
      "cell_type": "code",
      "source": [
        "df[\"razdel_array\"] = df[\"text_no_spaces\"].apply(lambda text: [_.text for _ in list(tokenize(text.lower()))])"
      ],
      "metadata": {
        "id": "ybo5NK_7fZnL"
      },
      "execution_count": 30,
      "outputs": []
    },
    {
      "cell_type": "code",
      "source": [
        "def word_score(word, lang):\n",
        "    z = zipf_frequency(word, lang)  # zipf roughly between 0..7. Rare words -> -inf\n",
        "    if z <= 0:\n",
        "        return -10\n",
        "    return z - max(0.0, 8.8 - 0.8 * len(word))\n",
        "\n",
        "def segment_viterbi(s, lang):\n",
        "    n = len(s)\n",
        "    # dp[i] = best score for prefix s[:i], backpointer\n",
        "    dp = [-1e9] * (n + 1)\n",
        "    bp = [-1] * (n + 1)\n",
        "    dp[0] = 0.0\n",
        "\n",
        "    brand_set = set(['amd', 'acer', 'adidas', 'aliexpress', 'amazon', 'apple', 'asus', 'atlant', 'avito',\n",
        "                 'benq', 'bosch', 'brother', 'burger king', 'canon', 'casio', 'coca-cola', 'dell', 'dyson',\n",
        "                 'epson', 'facebook', 'fender', 'fitbit', 'ford', 'garmin', 'gibson', 'google', 'h&m', 'hp',\n",
        "                 'honor', 'huawei', 'ibm', 'ikea', 'indesit', 'instagram', 'intel', 'jbl', 'jvc', 'kfc', 'lg',\n",
        "                 'lenovo', 'levi’s', 'linkedin', 'logitech', 'msi', 'mac', 'mastercard', \"mcdonald's\", 'merida',\n",
        "                 'microsoft', 'nestle', 'netflix', 'nike', 'nikon', 'nvidia', 'oppo', 'oracle', 'panasonic', 'paypal',\n",
        "                 'pepsi', 'philips', 'pixel', 'playstation', 'puma', 'python', 'redmond', 'reebok', 'samsung', 'sberbank',\n",
        "                 'seagate', 'sharp', 'skype', 'sony', 'spotify', 'stels', 'tcl', 'tp-link', 'telegram', 'tesla', 'toshiba',\n",
        "                 'toyota', 'twitter', 'uniqlo', 'visa', 'western digital', 'whatsapp', 'windows', 'xbox', 'xiaomi', 'yamaha',\n",
        "                 'youtube', 'zara', 'zoom', 'ebay'])\n",
        "\n",
        "\n",
        "    for i in range(n):\n",
        "        if dp[i] < -1e8:\n",
        "            continue\n",
        "\n",
        "        for L in range(1, min(50, n - i) + 1):\n",
        "            w = s[i:i+L]\n",
        "            if w in brand_set:\n",
        "              sc = 100\n",
        "            else:\n",
        "              sc = word_score(w, lang)\n",
        "\n",
        "            new = dp[i] + sc\n",
        "            if new > dp[i+L]:\n",
        "                dp[i+L] = new\n",
        "                bp[i+L] = i\n",
        "    # backtrack\n",
        "    if dp[n] < -1e8:\n",
        "        return s  # fallback: вернуть как есть\n",
        "\n",
        "    parts = []\n",
        "    cur = n\n",
        "    while cur > 0:\n",
        "        prev = bp[cur]\n",
        "        if prev == -1:\n",
        "            # cannot segment\n",
        "            parts = [s]\n",
        "            break\n",
        "        parts.append(s[prev:cur])\n",
        "        cur = prev\n",
        "    parts.reverse()\n",
        "    return \" \".join(parts)"
      ],
      "metadata": {
        "id": "OBDZq8A9K3Jm"
      },
      "execution_count": 31,
      "outputs": []
    },
    {
      "cell_type": "code",
      "source": [
        "def segment_no_spaces_words(arr):\n",
        "    result = []\n",
        "    for word in arr:\n",
        "        if len(word) != 0:\n",
        "            if word[0] in \"абвгдеёжзийклмнопрстуфхцчшщъыьэюя\":\n",
        "                result.append(segment_viterbi(word,\"ru\"))\n",
        "            elif word[0] in string.ascii_lowercase:\n",
        "                result.append(segment_viterbi(word,\"en\"))\n",
        "            else:\n",
        "                result.append(word)\n",
        "    return result"
      ],
      "metadata": {
        "id": "axMIrqTjimy3"
      },
      "execution_count": 32,
      "outputs": []
    },
    {
      "cell_type": "code",
      "source": [
        "\n",
        "df['razdel_array'] = df['razdel_array'].apply(segment_no_spaces_words)"
      ],
      "metadata": {
        "id": "gK2i68otlWvB"
      },
      "execution_count": 33,
      "outputs": []
    },
    {
      "cell_type": "markdown",
      "source": [
        "Преобразуем массив в простую строку"
      ],
      "metadata": {
        "id": "1AhlwZPePX6z"
      }
    },
    {
      "cell_type": "code",
      "source": [
        "def word_list_to_string(word_list) -> str:\n",
        "  if not word_list:\n",
        "        return \"\"\n",
        "  parts = []\n",
        "  first = True\n",
        "\n",
        "  punct = set(string.punctuation)\n",
        "  punct.add(' ')\n",
        "  for word in word_list:\n",
        "      if not word:\n",
        "          continue\n",
        "\n",
        "      if not first and word[0] not in punct:\n",
        "          parts.append(' ')\n",
        "\n",
        "      parts.append(word)\n",
        "      first = False\n",
        "\n",
        "  return ''.join(parts)\n"
      ],
      "metadata": {
        "id": "6RZfhyCFL04i"
      },
      "execution_count": 34,
      "outputs": []
    },
    {
      "cell_type": "code",
      "source": [
        "df['text_with_spaces'] = df['razdel_array'].apply(lambda arr: word_list_to_string(arr))"
      ],
      "metadata": {
        "id": "42XIw3rOAmKV"
      },
      "execution_count": 36,
      "outputs": []
    },
    {
      "cell_type": "code",
      "source": [
        "df['text_with_spaces'].head()"
      ],
      "metadata": {
        "colab": {
          "base_uri": "https://localhost:8080/",
          "height": 241
        },
        "id": "jCvUUlKlP1eQ",
        "outputId": "608de7d3-38c4-475d-ef65-47e98dd572b5"
      },
      "execution_count": 37,
      "outputs": [
        {
          "output_type": "execute_result",
          "data": {
            "text/plain": [
              "0                    куплю айфон 14 про\n",
              "1                 ищу дом в подмосковье\n",
              "2    сдаю квартиру с мебелью и техникой\n",
              "3         новый диван доставка недорого\n",
              "4                     отдам даром кошку\n",
              "Name: text_with_spaces, dtype: object"
            ],
            "text/html": [
              "<div>\n",
              "<style scoped>\n",
              "    .dataframe tbody tr th:only-of-type {\n",
              "        vertical-align: middle;\n",
              "    }\n",
              "\n",
              "    .dataframe tbody tr th {\n",
              "        vertical-align: top;\n",
              "    }\n",
              "\n",
              "    .dataframe thead th {\n",
              "        text-align: right;\n",
              "    }\n",
              "</style>\n",
              "<table border=\"1\" class=\"dataframe\">\n",
              "  <thead>\n",
              "    <tr style=\"text-align: right;\">\n",
              "      <th></th>\n",
              "      <th>text_with_spaces</th>\n",
              "    </tr>\n",
              "  </thead>\n",
              "  <tbody>\n",
              "    <tr>\n",
              "      <th>0</th>\n",
              "      <td>куплю айфон 14 про</td>\n",
              "    </tr>\n",
              "    <tr>\n",
              "      <th>1</th>\n",
              "      <td>ищу дом в подмосковье</td>\n",
              "    </tr>\n",
              "    <tr>\n",
              "      <th>2</th>\n",
              "      <td>сдаю квартиру с мебелью и техникой</td>\n",
              "    </tr>\n",
              "    <tr>\n",
              "      <th>3</th>\n",
              "      <td>новый диван доставка недорого</td>\n",
              "    </tr>\n",
              "    <tr>\n",
              "      <th>4</th>\n",
              "      <td>отдам даром кошку</td>\n",
              "    </tr>\n",
              "  </tbody>\n",
              "</table>\n",
              "</div><br><label><b>dtype:</b> object</label>"
            ]
          },
          "metadata": {},
          "execution_count": 37
        }
      ]
    },
    {
      "cell_type": "markdown",
      "source": [
        "Костыль не бейте"
      ],
      "metadata": {
        "id": "7RlyiQwiYWVa"
      }
    },
    {
      "cell_type": "code",
      "source": [
        "viterbi_unigram_pred = [[i for i, c in enumerate(el) if c == ' '] for el in df[\"text_with_spaces\"]]"
      ],
      "metadata": {
        "id": "DIQ8s1DL_KaH"
      },
      "execution_count": 38,
      "outputs": []
    },
    {
      "cell_type": "code",
      "source": [
        "for arr in viterbi_unigram_pred:\n",
        "  for i,el in enumerate(arr):\n",
        "    arr[i] -= i"
      ],
      "metadata": {
        "id": "Sac2vKPMXobF"
      },
      "execution_count": 39,
      "outputs": []
    },
    {
      "cell_type": "markdown",
      "source": [
        "Submission"
      ],
      "metadata": {
        "id": "_-7yK3FzQHrA"
      }
    },
    {
      "cell_type": "code",
      "source": [
        "\n",
        "submission_df = pd.DataFrame({\n",
        "    'id': range(len(viterbi_unigram_pred)),\n",
        "    'predicted_positions': viterbi_unigram_pred,\n",
        "})\n",
        "submission_df = submission_df.set_index('id')"
      ],
      "metadata": {
        "id": "1CFsQ_LtGR5H"
      },
      "execution_count": 40,
      "outputs": []
    },
    {
      "cell_type": "code",
      "source": [
        "submission_df.to_csv('finale.csv')"
      ],
      "metadata": {
        "id": "kFe4wGYdH7V-"
      },
      "execution_count": 41,
      "outputs": []
    },
    {
      "cell_type": "code",
      "source": [
        "def calculate_f1(predictions, truths):\n",
        "    \"\"\"\n",
        "    Вычисляет F1-score для предсказанных позиций пробелов.\n",
        "\n",
        "    Args:\n",
        "        predictions: список списков предсказанных индексов пробелов\n",
        "        truths: список списков истинных индексов пробелов\n",
        "\n",
        "    Returns:\n",
        "        Средний F1-score по всем текстам\n",
        "    \"\"\"\n",
        "    f1_scores = []\n",
        "\n",
        "    for pred, true in zip(predictions, truths):\n",
        "        # Преобразуем в множества для удобства операций\n",
        "        pred_set = set(pred)\n",
        "        true_set = set(true)\n",
        "\n",
        "        # Рассчитываем метрики\n",
        "        intersection = len(pred_set & true_set)\n",
        "\n",
        "        # Если нет предсказанных пробелов и нет истинных\n",
        "        if len(pred_set) == 0 and len(true_set) == 0:\n",
        "            precision = 1.0\n",
        "            recall = 1.0\n",
        "        else:\n",
        "            # Precision = TP / (TP + FP)\n",
        "            precision = intersection / len(pred_set) if len(pred_set) > 0 else 0.0\n",
        "\n",
        "            # Recall = TP / (TP + FN)\n",
        "            recall = intersection / len(true_set) if len(true_set) > 0 else 0.0\n",
        "\n",
        "        # F1-score\n",
        "        if precision + recall > 0:\n",
        "            f1 = 2 * (precision * recall) / (precision + recall)\n",
        "        else:\n",
        "            f1 = 0.0\n",
        "\n",
        "        f1_scores.append(f1)\n",
        "\n",
        "    # Средний F1 по всем текстам\n",
        "    return sum(f1_scores) / len(f1_scores) if f1_scores else 0.0\n"
      ],
      "metadata": {
        "id": "l6xQnVAeAbDo"
      },
      "execution_count": 42,
      "outputs": []
    },
    {
      "cell_type": "markdown",
      "source": [
        "Спасибо за проверку ❤️"
      ],
      "metadata": {
        "id": "LLdV3XvdQfLR"
      }
    }
  ]
}
